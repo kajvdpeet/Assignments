{
 "cells": [
  {
   "cell_type": "markdown",
   "metadata": {},
   "source": [
    "# Final Assignment Applied Economics 1\n",
    "\n",
    " Kaj van der Peet – 566914\n",
    " \n",
    " Adrian Vargas – 550808\n",
    "\n"
   ]
  },
  {
   "cell_type": "markdown",
   "metadata": {},
   "source": [
    "## Question"
   ]
  },
  {
   "cell_type": "code",
   "execution_count": 82,
   "metadata": {
    "collapsed": false
   },
   "outputs": [
    {
     "name": "stdout",
     "output_type": "stream",
     "text": [
      "      Left    Right\n",
      "----  ------  -------\n",
      "Up    x,0     0,0\n",
      "Down  0,0     1,2\n"
     ]
    }
   ],
   "source": [
    "from tabulate import tabulate \n",
    "print tabulate([[\"Up\", 'x,0' , '0,0' ], [\"Down\", '0,0','1,2']], [\"Left\", \"Right\"])"
   ]
  },
  {
   "cell_type": "markdown",
   "metadata": {},
   "source": [
    "We are interested in knowing the different results that can be obtained by solving it through a Pure and Mixed Nash Equilibrium Strategies and a Quantal Response Equilibrium (QRE). Also, we are interested in analyzing the minimal amount of error that someone must achieve in order to reach the traditional Nash Equilibrium in mixed strategies. "
   ]
  },
  {
   "cell_type": "markdown",
   "metadata": {},
   "source": [
    "### Motivation\n",
    "\n",
    "Bounded rationality, as proposed by Herbert Simon, challenges the notion of human rationality and differs from the concept of a traditional homo-economicus. In line with this thinking, McKelvey and Palfrey (1995) made available a model named Quantal Response Equilibrium (QRE) that considers an agent who sometimes makes mistakes. As behavioral economists, we are interested in knowing the different results that can be obtained by solving the game with two approaches. The first approach is the Nash Equilibrium in Pure and Mixed Strategies and the second approach is through the QRE. The first assumes perfect rationality while the second considers agents’ mistakes. While both approaches are different we want to analyze the magnitude of difference and determine how can an agent ‘learn’ to reach a NE in mixed strategies.  \n"
   ]
  },
  {
   "cell_type": "markdown",
   "metadata": {},
   "source": [
    "## Method\n",
    "\n",
    "For answering this question we will base our analysis in the Logit QRE model and in the NE in pure and mixed strategies. We will describe both solutions in the following:\n",
    "\n",
    "### 1. Nash Equilibrium in pure and mixed strategies\n",
    "\n",
    "Solving the game we get 2 NE in pure strategies and 1 NE in mixed strategies:\n",
    "\n",
    "* Pure Nash Equilibrium: (Up , Left) and (Down , Right)\n",
    "* Mixed Nash Equilibrium: ($\\frac{2}{3}$, $\\frac{1}{1+x}$)\n",
    "\n",
    "### 2. Logit Quantal Response Equilibrium \n",
    "The logistic quantal response is defined as:\n",
    "$\\sigma_{ij}(x_i) = \\frac{e^{\\lambda x_{ij}}}{\\sum_{k=1}^{J_i} {e^{\\lambda x_{ik}}}}$\n",
    "\n",
    "$Where \\\\\\ x_i \\in R^{J_i}$,\n",
    "\n",
    "Considering this specific game and assuming that qU is the probability of Player 1 to choose Up and pL is the probability of player 2 to choose Left, then we get:\n",
    "\n",
    "$q_u = \\frac{e^{\\lambda x p_L}}{e^{\\lambda p_L} + e^{\\lambda(1-p_L)}}$\n",
    "\n",
    "\n",
    "$p_L = \\frac{e^{\\lambda q_u}}{e^{\\lambda q_u} + e^{2 \\lambda(1-q_u)}}$"
   ]
  },
  {
   "cell_type": "markdown",
   "metadata": {},
   "source": [
    "### Assumptions\n",
    "We will assume an X value (player 1 payment for selecting Up) of 2. Later on we may play with the model in order to see whether this value makes a difference and the probable magnitude of these differences. In the beginning we will assume that the value of lambda ()will equal 1. Later on we may play with this value as well and analyze how the NE for the LQRE tends to the mixed strategy NE. \n",
    " \n"
   ]
  },
  {
   "cell_type": "markdown",
   "metadata": {},
   "source": [
    "## Answer\n"
   ]
  },
  {
   "cell_type": "markdown",
   "metadata": {},
   "source": [
    "## Discussion\n"
   ]
  },
  {
   "cell_type": "markdown",
   "metadata": {},
   "source": [
    "## References\n",
    "\n",
    "McKelvey, R. and Palfrey, T. (1995) Quantal response equilibria for normal form games. Games and Economic Behavior, 10: 6-38.\n",
    "\n",
    "Simon, H. A. (1982). Models of bounded rationality. Cambridge, MA: MIT Press.\n"
   ]
  },
  {
   "cell_type": "code",
   "execution_count": null,
   "metadata": {
    "collapsed": true
   },
   "outputs": [],
   "source": []
  }
 ],
 "metadata": {
  "anaconda-cloud": {},
  "kernelspec": {
   "display_name": "Python [default]",
   "language": "python",
   "name": "python2"
  },
  "language_info": {
   "codemirror_mode": {
    "name": "ipython",
    "version": 2
   },
   "file_extension": ".py",
   "mimetype": "text/x-python",
   "name": "python",
   "nbconvert_exporter": "python",
   "pygments_lexer": "ipython2",
   "version": "2.7.12"
  }
 },
 "nbformat": 4,
 "nbformat_minor": 1
}

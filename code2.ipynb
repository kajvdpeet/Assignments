{
 "cells": [
  {
   "cell_type": "markdown",
   "metadata": {},
   "source": [
    "# Final Assignment Applied Economics 1\n",
    "\n",
    " Kaj van der Peet – 566914\n",
    " \n",
    " Adrian Vargas – 550808\n",
    "\n"
   ]
  },
  {
   "cell_type": "markdown",
   "metadata": {},
   "source": [
    "## Question"
   ]
  },
  {
   "cell_type": "code",
   "execution_count": 82,
   "metadata": {
    "collapsed": false
   },
   "outputs": [
    {
     "name": "stdout",
     "output_type": "stream",
     "text": [
      "      Left    Right\n",
      "----  ------  -------\n",
      "Up    x,0     0,0\n",
      "Down  0,0     1,2\n"
     ]
    }
   ],
   "source": [
    "from tabulate import tabulate \n",
    "print tabulate([[\"Up\", 'x,0' , '0,0' ], [\"Down\", '0,0','1,2']], [\"Left\", \"Right\"])"
   ]
  },
  {
   "cell_type": "markdown",
   "metadata": {},
   "source": [
    "We are interested in knowing the different results that can be obtained by solving it through a Pure and Mixed Nash Equilibrium Strategies and a Quantal Response Equilibrium (QRE). Also, we are interested in analyzing the minimal amount of error that someone must achieve in order to reach the traditional Nash Equilibrium in mixed strategies. "
   ]
  },
  {
   "cell_type": "markdown",
   "metadata": {},
   "source": [
    "### Motivation\n",
    "\n",
    "Bounded rationality, as proposed by Herbert Simon, challenges the notion of human rationality and differs from the concept of a traditional homo-economicus. In line with this thinking, McKelvey and Palfrey (1995) made available a model named Quantal Response Equilibrium (QRE) that considers an agent who sometimes makes mistakes. As behavioral economists, we are interested in knowing the different results that can be obtained by solving the game with two approaches. The first approach is the Nash Equilibrium in Pure and Mixed Strategies and the second approach is through the QRE. The first assumes perfect rationality while the second considers agents’ mistakes. While both approaches are different we want to analyze the magnitude of difference and determine how can an agent ‘learn’ to reach a NE in mixed strategies.  \n"
   ]
  },
  {
   "cell_type": "markdown",
   "metadata": {},
   "source": [
    "## Method\n",
    "\n",
    "For answering this question we will base our analysis in the Logit QRE model and in the NE in pure and mixed strategies. We will describe both solutions in the following:\n",
    "\n",
    "### 1. Nash Equilibrium in pure and mixed strategies\n",
    "\n",
    "Solving the game we get 2 NE in pure strategies and 1 NE in mixed strategies:\n",
    "\n",
    "* Pure Nash Equilibrium: (Up , Left) and (Down , Right)\n",
    "* Mixed Nash Equilibrium: ($\\frac{2}{3}$, $\\frac{1}{1+x}$)\n",
    "\n",
    "### 2. Logit Quantal Response Equilibrium \n",
    "The logistic quantal response is defined as:\n",
    "$\\sigma_{ij}(x_i) = \\frac{e^{\\lambda x_{ij}}}{\\sum_{k=1}^{J_i} {e^{\\lambda x_{ik}}}}$\n",
    "\n",
    "$Where \\\\\\ x_i \\in R^{J_i}$,\n",
    "\n",
    "Considering this specific game and assuming that qU is the probability of Player 1 to choose Up and pL is the probability of player 2 to choose Left, then we get:\n",
    "\n",
    "$q_u = \\frac{e^{\\lambda x p_L}}{e^{\\lambda p_L} + e^{\\lambda(1-p_L)}}$\n",
    "\n",
    "\n",
    "$p_L = \\frac{e^{\\lambda q_u}}{e^{\\lambda q_u} + e^{2 \\lambda(1-q_u)}}$"
   ]
  },
  {
   "cell_type": "markdown",
   "metadata": {},
   "source": [
    "### Assumptions\n",
    "We will assume an X value (player 1 payment for selecting Up) of 2. Later on we may play with the model in order to see whether this value makes a difference and the probable magnitude of these differences. In the beginning we will assume that the value of lambda ()will equal 1. Later on we may play with this value as well and analyze how the NE for the LQRE tends to the mixed strategy NE. \n",
    " \n"
   ]
  },
  {
   "cell_type": "code",
   "execution_count": 2,
   "metadata": {
    "collapsed": false
   },
   "outputs": [],
   "source": [
    "from __future__ import division\n",
    "from numpy import *\n",
    "from operator import *\n",
    "import matplotlib.pyplot as plt\n",
    "from scipy import optimize, arange\n",
    "from operator import add\n",
    "from mpmath import findroot\n",
    "%matplotlib inline"
   ]
  },
  {
   "cell_type": "markdown",
   "metadata": {},
   "source": [
    "## Answer"
   ]
  },
  {
   "cell_type": "code",
   "execution_count": 66,
   "metadata": {
    "collapsed": true
   },
   "outputs": [],
   "source": [
    "import matplotlib.pyplot as plt"
   ]
  },
  {
   "cell_type": "code",
   "execution_count": null,
   "metadata": {
    "collapsed": true
   },
   "outputs": [],
   "source": []
  },
  {
   "cell_type": "code",
   "execution_count": 67,
   "metadata": {
    "collapsed": false
   },
   "outputs": [
    {
     "data": {
      "image/png": "[encoded data removed]",
      "text/plain": [
       "<matplotlib.figure.Figure at 0xb3fe208>"
      ]
     },
     "metadata": {},
     "output_type": "display_data"
    }
   ],
   "source": [
    "\n",
    "plt.plot([0.01,0.10,0.20,0.30,0.40,0.50,0.60,0.70,0.80,0.90,1.00,2.00,4.00,6.00,8.00,10.00,33.00,66.00,100.00], [0.499,0.488,0.475,0.463,0.452,0.441,0.431,0.421,0.412,0.404,0.397,0.356,0.342,0.341,0.341,0.341,0.339,0.335,0.334])\n",
    "plt.plot([0.01,0.10,0.20,0.30,0.40,0.50,0.60,0.70,0.80,0.90,1.00,2.00,4.00,6.00,8.00,10.00,33.00,66.00,100.00], [0.983,0.865,0.779,0.722,0.682,0.654,0.635,0.621,0.612,0.606,0.603,0.631,0.716,0.769,0.802,0.825,0.912,0.944,0.952])\n",
    "plt.axis([0, 100, 0, 1])\n",
    "\n",
    "plt.xlabel('Different values of labda when x=2')\n",
    "plt.ylabel('Probability of choosing up or left')\n",
    "\n",
    "\n",
    "plt.xscale('symlog')\n",
    "plt.show()"
   ]
  },
  {
   "cell_type": "code",
   "execution_count": null,
   "metadata": {
    "collapsed": false
   },
   "outputs": [],
   "source": []
  },
  {
   "cell_type": "markdown",
   "metadata": {},
   "source": [
    "## Discussion\n"
   ]
  },
  {
   "cell_type": "markdown",
   "metadata": {},
   "source": [
    "## References\n",
    "\n",
    "McKelvey, R. and Palfrey, T. (1995) Quantal response equilibria for normal form games. Games and Economic Behavior, 10: 6-38.\n",
    "\n",
    "Simon, H. A. (1982). Models of bounded rationality. Cambridge, MA: MIT Press.\n"
   ]
  },
  {
   "cell_type": "code",
   "execution_count": null,
   "metadata": {
    "collapsed": true
   },
   "outputs": [],
   "source": []
  }
 ],
 "metadata": {
  "anaconda-cloud": {},
  "kernelspec": {
   "display_name": "Python [default]",
   "language": "python",
   "name": "python2"
  },
  "language_info": {
   "codemirror_mode": {
    "name": "ipython",
    "version": 2
   },
   "file_extension": ".py",
   "mimetype": "text/x-python",
   "name": "python",
   "nbconvert_exporter": "python",
   "pygments_lexer": "ipython2",
   "version": "2.7.12"
  }
 },
 "nbformat": 4,
 "nbformat_minor": 1
}
